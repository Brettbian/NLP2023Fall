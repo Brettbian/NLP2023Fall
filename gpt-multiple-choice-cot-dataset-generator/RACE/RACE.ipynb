{
 "cells": [
  {
   "cell_type": "code",
   "execution_count": 1,
   "metadata": {},
   "outputs": [],
   "source": [
    "from datasets import load_dataset\n",
    "from config import OPENAI_API_KEY\n",
    "import os\n",
    "import openai\n",
    "from tqdm import tqdm\n",
    "import csv\n",
    "import re"
   ]
  },
  {
   "cell_type": "code",
   "execution_count": 2,
   "metadata": {},
   "outputs": [],
   "source": [
    "# load race middle\n",
    "train_set = load_dataset('race', 'middle', split='train')\n",
    "test_set = load_dataset('race', 'middle', split='validation')\n",
    "validation_set = load_dataset('race', 'middle', split='test')"
   ]
  },
  {
   "cell_type": "code",
   "execution_count": 3,
   "metadata": {},
   "outputs": [
    {
     "name": "stdout",
     "output_type": "stream",
     "text": [
      "4668 307 245\n"
     ]
    }
   ],
   "source": [
    "# filter out rows with article length > 650\n",
    "max_len = 650\n",
    "train_set = train_set.filter(lambda example: len(example['article']) < max_len)\n",
    "test_set = test_set.filter(lambda example: len(example['article']) < max_len)\n",
    "validation_set = validation_set.filter(lambda example: len(example['article']) < max_len)\n",
    "print(len(train_set), len(test_set), len(validation_set))"
   ]
  },
  {
   "cell_type": "code",
   "execution_count": 4,
   "metadata": {},
   "outputs": [
    {
     "name": "stdout",
     "output_type": "stream",
     "text": [
      "600 200 200\n"
     ]
    }
   ],
   "source": [
    "# only sample 600 examples from train set, and proportionally sample 200 examples from validation set and test set\n",
    "random_seed = 42\n",
    "train_set = train_set.shuffle(seed=random_seed).select(range(600))\n",
    "test_set = test_set.shuffle(seed=random_seed).select(range(200))\n",
    "validation_set = validation_set.shuffle(seed=random_seed).select(range(200))\n",
    "\n",
    "print(len(train_set), len(test_set), len(validation_set))"
   ]
  },
  {
   "cell_type": "code",
   "execution_count": 5,
   "metadata": {},
   "outputs": [
    {
     "name": "stdout",
     "output_type": "stream",
     "text": [
      "Dataset({\n",
      "    features: ['example_id', 'article', 'answer', 'question', 'options'],\n",
      "    num_rows: 600\n",
      "})\n",
      "['In a factory.', 'In a school.', 'In a hospital.', 'In a park.']\n"
     ]
    }
   ],
   "source": [
    "#take a look at the a sample of the dataset\n",
    "print(train_set)\n",
    "print(train_set[0]['options'])"
   ]
  },
  {
   "cell_type": "code",
   "execution_count": 6,
   "metadata": {},
   "outputs": [],
   "source": [
    "# Global variables for prompt\n",
    "PREFIX = '''\n",
    "###### Instructions ######\n",
    "Read the following article and the multiple-choice question, analyze step by step, select the correct option, and give the option letter (e.g., A or B) as your answer.\n",
    "Use the following format to provide your answer and confidence level:\n",
    "Explanation: [insert step-by-step analysis here]\n",
    "Answer and Confidence (0-100): [Your answer, e.g., B], [Your confidence level, e.g., 80]%\n",
    "Note: The confidence level indicates how certain you are about your answer, expressed as a percentage.\n",
    "'''\n",
    "openai.api_key = OPENAI_API_KEY"
   ]
  },
  {
   "cell_type": "code",
   "execution_count": 7,
   "metadata": {},
   "outputs": [],
   "source": [
    "def get_last_processed_idx(checkpoint_file):\n",
    "    if os.path.exists(checkpoint_file):\n",
    "        with open(checkpoint_file, 'r') as file:\n",
    "            last_idx = file.readline()\n",
    "            return int(last_idx.strip()) if last_idx else 0\n",
    "    else:\n",
    "        return 0\n",
    "    \n",
    "def set_checkpoint_idx(checkpoint_file, idx):\n",
    "    with open(checkpoint_file, 'w') as file:\n",
    "        file.write(str(idx))"
   ]
  },
  {
   "cell_type": "code",
   "execution_count": 8,
   "metadata": {},
   "outputs": [],
   "source": [
    "def process_dataset(dataset, csv_file_path, checkpoint_file):\n",
    "    start_idx = get_last_processed_idx(checkpoint_file)\n",
    "    print(f\"Starting from index {start_idx}\")\n",
    "    for idx in tqdm(range(start_idx, len(dataset))):\n",
    "        try:\n",
    "            # rows are in form of 'example_id', 'article', 'answer', 'question', 'options'\n",
    "            # options are in form of ['America', 'England', 'Canana', \"We don't know.\"]\n",
    "            question = dataset['question'][idx]\n",
    "            article = dataset['article'][idx]\n",
    "            answer = dataset['answer'][idx]\n",
    "            options = dataset['options'][idx]\n",
    "\n",
    "            formatted_options = [f\"{chr(ord('A') + i)}. {option}\" for i, option in enumerate(options)]\n",
    "            question_input = f\"###### article ######\\n{article}\\n\\n###### Question ######\\n{question}\\n\" + \"\\n\".join(formatted_options)\n",
    "            prompt = PREFIX + f\"{question_input}\"\n",
    "\n",
    "            response = openai.ChatCompletion.create(\n",
    "                model=\"gpt-4\",\n",
    "                messages=[\n",
    "                    {\"role\": \"system\", \"content\": \"You are a chatbot trained to answer multiple-choice questions.\"},\n",
    "                    {\"role\": \"user\", \"content\": prompt},\n",
    "                ]\n",
    "            )\n",
    "\n",
    "            output = response['choices'][0]['message']['content'].strip()\n",
    "\n",
    "            explanation_match = re.search(r'Explanation: (.*)\\n', output)\n",
    "            explanation = explanation_match.group(1) if explanation_match else \"No explanation found.\"\n",
    "\n",
    "            answer_confidence_match = re.search(r'Answer and Confidence \\((0-100)\\): ([A-D]), (\\d+)%', output)\n",
    "            predicted_answer = answer_confidence_match.group(2).strip() if answer_confidence_match else \"No answer found.\"\n",
    "            confidence_level = int(answer_confidence_match.group(3)) if answer_confidence_match else \"No confidence level found.\"\n",
    "\n",
    "            with open(csv_file_path, 'a+', newline='', encoding='utf-8') as file:\n",
    "                writer = csv.writer(file)\n",
    "                if os.path.getsize(csv_file_path) == 0:\n",
    "                    writer.writerow(['example_id', 'question', 'article', 'options', 'predicted_answer', 'answer', 'confidence_level', 'explanation'])\n",
    "                writer.writerow([idx, question, article, \"\\n\".join(formatted_options), predicted_answer, answer, confidence_level, explanation])\n",
    "\n",
    "            set_checkpoint_idx(checkpoint_file, idx + 1)\n",
    "\n",
    "        except Exception as e:\n",
    "            print(f\"An error occurred at index {idx}: {e}\")\n",
    "            break"
   ]
  },
  {
   "cell_type": "code",
   "execution_count": 9,
   "metadata": {},
   "outputs": [],
   "source": [
    "train_csv_output_path = 'train.csv'\n",
    "validation_csv_output_path = 'validation.csv'\n",
    "train_checkpoint_file = 'train_checkpoint.txt'\n",
    "validation_checkpoint_file = 'validation_checkpoint.txt'"
   ]
  },
  {
   "cell_type": "code",
   "execution_count": 19,
   "metadata": {},
   "outputs": [
    {
     "name": "stdout",
     "output_type": "stream",
     "text": [
      "Starting from index 392\n"
     ]
    },
    {
     "name": "stderr",
     "output_type": "stream",
     "text": [
      "100%|██████████| 208/208 [16:36<00:00,  4.79s/it]\n"
     ]
    }
   ],
   "source": [
    "process_dataset(train_set, train_csv_output_path, train_checkpoint_file)"
   ]
  },
  {
   "cell_type": "code",
   "execution_count": 11,
   "metadata": {},
   "outputs": [
    {
     "name": "stdout",
     "output_type": "stream",
     "text": [
      "Starting from index 0\n"
     ]
    },
    {
     "name": "stderr",
     "output_type": "stream",
     "text": [
      "  0%|          | 0/200 [00:00<?, ?it/s]"
     ]
    },
    {
     "name": "stderr",
     "output_type": "stream",
     "text": [
      "100%|██████████| 200/200 [17:08<00:00,  5.14s/it]\n"
     ]
    }
   ],
   "source": [
    "process_dataset(validation_set, validation_csv_output_path, validation_checkpoint_file)"
   ]
  },
  {
   "cell_type": "code",
   "execution_count": 13,
   "metadata": {},
   "outputs": [],
   "source": [
    "# put data to jsonl format\n",
    "import jsonlines\n",
    "import json\n",
    "\n",
    "# convert csv to jsonl\n",
    "def convert_to_jsonl(csv_file_path, jsonl_file_path):\n",
    "    with open(csv_file_path, 'r', encoding='utf-8') as csv_file:\n",
    "        csv_reader = csv.DictReader(csv_file)\n",
    "        with jsonlines.open(jsonl_file_path, mode='w') as writer:\n",
    "            for row in csv_reader:\n",
    "                writer.write(row)\n",
    "\n",
    "# save train and validation set to jsonl\n",
    "train_jsonl_output_path = 'train.jsonl'\n",
    "validation_jsonl_output_path = 'validation.jsonl'\n",
    "\n",
    "convert_to_jsonl(train_csv_output_path, train_jsonl_output_path)\n",
    "convert_to_jsonl(validation_csv_output_path, validation_jsonl_output_path)\n",
    "\n",
    "# save test set to jsonl\n",
    "test_jsonl_output_path = 'test.jsonl'\n",
    "with open(test_jsonl_output_path, 'w') as file:\n",
    "    for example in test_set:\n",
    "        json.dump(example, file)\n",
    "        file.write('\\n')"
   ]
  },
  {
   "cell_type": "code",
   "execution_count": null,
   "metadata": {},
   "outputs": [],
   "source": []
  }
 ],
 "metadata": {
  "kernelspec": {
   "display_name": "base",
   "language": "python",
   "name": "python3"
  },
  "language_info": {
   "codemirror_mode": {
    "name": "ipython",
    "version": 3
   },
   "file_extension": ".py",
   "mimetype": "text/x-python",
   "name": "python",
   "nbconvert_exporter": "python",
   "pygments_lexer": "ipython3",
   "version": "3.9.15"
  },
  "orig_nbformat": 4
 },
 "nbformat": 4,
 "nbformat_minor": 2
}
