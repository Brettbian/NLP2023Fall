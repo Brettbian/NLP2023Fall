{
 "cells": [
  {
   "cell_type": "code",
   "execution_count": null,
   "metadata": {},
   "outputs": [],
   "source": [
    "from datasets import load_dataset\n",
    "from config import OPENAI_API_KEY\n",
    "import os\n",
    "import openai\n",
    "from tqdm import tqdm\n",
    "import csv\n",
    "import re"
   ]
  },
  {
   "cell_type": "code",
   "execution_count": null,
   "metadata": {},
   "outputs": [],
   "source": [
    "# load dataset\n",
    "ARC_easy_train = load_dataset('ai2_arc', 'ARC-Easy', split='train')\n",
    "ARC_easy_test = load_dataset('ai2_arc', 'ARC-Easy', split='test')\n",
    "ARC_easy_dev = load_dataset('ai2_arc', 'ARC-Easy', split='validation')\n",
    "\n",
    "ARC_Challenge_train = load_dataset('ai2_arc', 'ARC-Challenge', split='train')\n",
    "ARC_Challenge_test = load_dataset('ai2_arc', 'ARC-Challenge', split='test')\n",
    "ARC_Challenge_dev = load_dataset('ai2_arc', 'ARC-Challenge', split='validation')\n",
    "\n",
    "# we only want a subset of the data\n",
    "# 600 examples from train set, and proportionally sample 200 examples from validation set and test set\n",
    "# each contains 1/2 from ARC-Easy and 1/2 from ARC-Challenge\n",
    "random_seed = 42\n",
    "train_set = ARC_easy_train.shuffle(seed=random_seed).select(range(300)) + ARC_Challenge_train.shuffle(seed=42).select(range(300))\n",
    "validation_set = ARC_easy_dev.shuffle(seed=random_seed).select(range(100)) + ARC_Challenge_dev.shuffle(seed=42).select(range(100))\n",
    "test_set = ARC_easy_test.shuffle(seed=random_seed).select(range(100)) + ARC_Challenge_test.shuffle(seed=42).select(range(100))"
   ]
  },
  {
   "cell_type": "code",
   "execution_count": null,
   "metadata": {},
   "outputs": [],
   "source": [
    "print(train_set)\n",
    "print(train_set[0]['choices'])"
   ]
  },
  {
   "cell_type": "code",
   "execution_count": null,
   "metadata": {},
   "outputs": [],
   "source": [
    "# Global variables for prompt\n",
    "PREFIX = '''\n",
    "###### Instructions ######\n",
    "Read the following article and the multiple-choice question, analyze step by step, select the correct option, and give the option letter (e.g., A or B) as your answer.\n",
    "Use the following format to provide your answer and confidence level:\n",
    "Explanation: [insert step-by-step analysis here]\n",
    "Answer and Confidence (0-100): [Your answer, e.g., B], [Your confidence level, e.g., 80]%\n",
    "Note: The confidence level indicates how certain you are about your answer, expressed as a percentage.\n",
    "'''\n",
    "openai.api_key = OPENAI_API_KEY"
   ]
  },
  {
   "cell_type": "code",
   "execution_count": null,
   "metadata": {},
   "outputs": [],
   "source": [
    "def get_last_processed_idx(checkpoint_file):\n",
    "    if os.path.exists(checkpoint_file):\n",
    "        with open(checkpoint_file, 'r') as file:\n",
    "            last_idx = file.readline()\n",
    "            return int(last_idx.strip()) if last_idx else 0\n",
    "    else:\n",
    "        return 0\n",
    "    \n",
    "def set_checkpoint_idx(checkpoint_file, idx):\n",
    "    with open(checkpoint_file, 'w') as file:\n",
    "        file.write(str(idx))"
   ]
  },
  {
   "cell_type": "code",
   "execution_count": null,
   "metadata": {},
   "outputs": [],
   "source": [
    "def process_dataset(dataset, csv_file_path, checkpoint_file):\n",
    "    start_idx = get_last_processed_idx(checkpoint_file)\n",
    "    print(f\"Starting from index {start_idx}\")\n",
    "    for idx in tqdm(range(start_idx, len(dataset))):\n",
    "        try:\n",
    "            # rows are in form of 'example_id', 'article', 'answer', 'question', 'options'\n",
    "            # options are in form of ['America', 'England', 'Canana', \"We don't know.\"]\n",
    "            question = dataset['question'][idx]\n",
    "            article = dataset['article'][idx]\n",
    "            answer = dataset['answer'][idx]\n",
    "            options = dataset['options'][idx]\n",
    "\n",
    "            formatted_options = [f\"{chr(ord('A') + i)}. {option}\" for i, option in enumerate(options)]\n",
    "            question_input = f\"###### article ######\\n{article}\\n\\n###### Question ######\\n{question}\\n\" + \"\\n\".join(formatted_options)\n",
    "            prompt = PREFIX + f\"{question_input}\"\n",
    "\n",
    "            response = openai.ChatCompletion.create(\n",
    "                model=\"gpt-4\",\n",
    "                messages=[\n",
    "                    {\"role\": \"system\", \"content\": \"You are a chatbot trained to answer multiple-choice questions.\"},\n",
    "                    {\"role\": \"user\", \"content\": prompt},\n",
    "                ]\n",
    "            )\n",
    "\n",
    "            output = response['choices'][0]['message']['content'].strip()\n",
    "\n",
    "            explanation_match = re.search(r'Explanation: (.*)\\n', output)\n",
    "            explanation = explanation_match.group(1) if explanation_match else \"No explanation found.\"\n",
    "\n",
    "            answer_confidence_match = re.search(r'Answer and Confidence \\((0-100)\\): ([A-D]), (\\d+)%', output)\n",
    "            predicted_answer = answer_confidence_match.group(2).strip() if answer_confidence_match else \"No answer found.\"\n",
    "            confidence_level = int(answer_confidence_match.group(3)) if answer_confidence_match else \"No confidence level found.\"\n",
    "\n",
    "            with open(csv_file_path, 'a+', newline='', encoding='utf-8') as file:\n",
    "                writer = csv.writer(file)\n",
    "                if os.path.getsize(csv_file_path) == 0:\n",
    "                    writer.writerow(['example_id', 'question', 'article', 'options', 'predicted_answer', 'answer', 'confidence_level', 'explanation'])\n",
    "                writer.writerow([idx, question, article, \"\\n\".join(formatted_options), predicted_answer, answer, confidence_level, explanation])\n",
    "\n",
    "            set_checkpoint_idx(checkpoint_file, idx + 1)\n",
    "\n",
    "        except Exception as e:\n",
    "            print(f\"An error occurred at index {idx}: {e}\")\n",
    "            break"
   ]
  }
 ],
 "metadata": {
  "language_info": {
   "name": "python"
  },
  "orig_nbformat": 4
 },
 "nbformat": 4,
 "nbformat_minor": 2
}
