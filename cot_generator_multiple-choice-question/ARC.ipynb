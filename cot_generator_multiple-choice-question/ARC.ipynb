{
 "cells": [
  {
   "cell_type": "code",
   "execution_count": 2,
   "metadata": {},
   "outputs": [],
   "source": [
    "from datasets import load_dataset, concatenate_datasets\n",
    "from config import OPENAI_API_KEY\n",
    "import os\n",
    "import openai\n",
    "from tqdm import tqdm\n",
    "import csv\n",
    "import re"
   ]
  },
  {
   "cell_type": "code",
   "execution_count": 6,
   "metadata": {},
   "outputs": [],
   "source": [
    "# load dataset\n",
    "ARC_easy_train = load_dataset('ai2_arc', 'ARC-Easy', split='train')\n",
    "ARC_easy_test = load_dataset('ai2_arc', 'ARC-Easy', split='test')\n",
    "ARC_easy_validation = load_dataset('ai2_arc', 'ARC-Easy', split='validation')\n",
    "\n",
    "ARC_Challenge_train = load_dataset('ai2_arc', 'ARC-Challenge', split='train')\n",
    "ARC_Challenge_test = load_dataset('ai2_arc', 'ARC-Challenge', split='test')\n",
    "ARC_Challenge_validation = load_dataset('ai2_arc', 'ARC-Challenge', split='validation')\n",
    "\n",
    "# we only want a subset of the data\n",
    "# 600 examples from train set, and proportionally sample 200 examples from validation set and test set\n",
    "# each contains 1/2 from ARC-Easy and 1/2 from ARC-Challenge\n",
    "# unsupported operand type(s) for +: 'Dataset' and 'Dataset'\n",
    "random_seed = 42\n",
    "train_set = concatenate_datasets([ARC_easy_train.shuffle(seed=random_seed).select(range(300)), ARC_Challenge_train.shuffle(seed=random_seed).select(range(300))])\n",
    "test_set = concatenate_datasets([ARC_easy_test.shuffle(seed=random_seed).select(range(100)), ARC_Challenge_test.shuffle(seed=random_seed).select(range(100))])\n",
    "validation_set = concatenate_datasets([ARC_easy_validation.shuffle(seed=random_seed).select(range(100)), ARC_Challenge_validation.shuffle(seed=random_seed).select(range(100))])"
   ]
  },
  {
   "cell_type": "code",
   "execution_count": 28,
   "metadata": {},
   "outputs": [
    {
     "name": "stdout",
     "output_type": "stream",
     "text": [
      "Dataset({\n",
      "    features: ['id', 'question', 'choices', 'answerKey'],\n",
      "    num_rows: 600\n",
      "})\n",
      "{'text': ['aluminum', 'copper', 'glass', 'wood'], 'label': ['A', 'B', 'C', 'D']}\n",
      "Which of the following materials would best slow the transfer of heat?\n"
     ]
    },
    {
     "data": {
      "text/plain": [
       "41"
      ]
     },
     "execution_count": 28,
     "metadata": {},
     "output_type": "execute_result"
    }
   ],
   "source": [
    "print(train_set)\n",
    "print(train_set[0]['choices'])\n",
    "print(train_set[0]['question'])\n",
    "\n",
    "# get first idx with answerKey is in [1, 2, 3, 4]\n",
    "def get_first_idx_with_answerKey_in_1234(dataset):\n",
    "    for i in range(len(dataset)):\n",
    "        if dataset[i]['answerKey'] in ['1', '2', '3', '4']:\n",
    "            return i\n",
    "    return -1\n",
    "\n",
    "get_first_idx_with_answerKey_in_1234(train_set)"
   ]
  },
  {
   "cell_type": "code",
   "execution_count": 13,
   "metadata": {},
   "outputs": [
    {
     "name": "stdout",
     "output_type": "stream",
     "text": [
      "{'B', '1', 'C', '3', 'A', '2', 'D', '4'}\n"
     ]
    }
   ],
   "source": [
    "# print all different values of answerKey\n",
    "answerKey_set = set()\n",
    "for example in train_set:\n",
    "    answerKey_set.add(example['answerKey'])\n",
    "print(answerKey_set)"
   ]
  },
  {
   "cell_type": "code",
   "execution_count": 14,
   "metadata": {},
   "outputs": [],
   "source": [
    "# Global variables for prompt\n",
    "PREFIX = '''\n",
    "###### Instructions ######\n",
    "Read the following multiple-choice question, analyze step by step, select the correct option, and give the option letter (e.g., A or B) as your answer.\n",
    "Use the following format to provide your answer and confidence level:\n",
    "Explanation: [insert step-by-step analysis here]\n",
    "Answer and Confidence (0-100): [Your answer, e.g., B, 1], [Your confidence level, e.g., 80]%\n",
    "Note: The confidence level indicates how certain you are about your answer, expressed as a percentage.\n",
    "'''\n",
    "openai.api_key = OPENAI_API_KEY"
   ]
  },
  {
   "cell_type": "code",
   "execution_count": 15,
   "metadata": {},
   "outputs": [],
   "source": [
    "def get_last_processed_idx(checkpoint_file):\n",
    "    if os.path.exists(checkpoint_file):\n",
    "        with open(checkpoint_file, 'r') as file:\n",
    "            last_idx = file.readline()\n",
    "            return int(last_idx.strip()) if last_idx else 0\n",
    "    else:\n",
    "        return 0\n",
    "    \n",
    "def set_checkpoint_idx(checkpoint_file, idx):\n",
    "    with open(checkpoint_file, 'w') as file:\n",
    "        file.write(str(idx))"
   ]
  },
  {
   "cell_type": "code",
   "execution_count": 32,
   "metadata": {},
   "outputs": [],
   "source": [
    "def process_dataset(dataset, csv_file_path, checkpoint_file):\n",
    "    start_idx = get_last_processed_idx(checkpoint_file)\n",
    "    print(f\"Starting from index {start_idx}\")\n",
    "    # for idx in tqdm(range(41, 41 + 1)):\n",
    "    for idx in tqdm(range(start_idx, len(dataset))):\n",
    "        try:\n",
    "            # rows are in form of ['id', 'question', 'choices', 'answerKey']\n",
    "            # choices are in form of {'text': ['aluminum', 'copper', 'glass', 'wood'], 'label': ['A', 'B', 'C', 'D']} or { \"text\": [ \"their color\", \"their shape\", \"how they formed\", \"the minerals they contain\" ], \"label\": [ \"1\", \"2\", \"3\", \"4\" ] }\n",
    "            # we want to convert 1, 2, 3, 4 to A, B, C, D if 1, 2, 3, 4 are present\n",
    "            question = dataset[idx]['question']\n",
    "            choices = dataset[idx]['choices']\n",
    "            answer_key = dataset[idx]['answerKey']\n",
    "        \n",
    "            # print(f\"Question: {question}\")\n",
    "            # print(f\"Choices: {choices}\")\n",
    "            # print(f\"Answer key: {answer_key}\")\n",
    "\n",
    "             # for choices, we want to convert 1, 2, 3, 4 to A, B, C, D if 1, 2, 3, 4 are present\n",
    "            if choices['label'][0] in ['1', '2', '3', '4']:\n",
    "                choices['label'] = [chr(ord('A') + int(label) - 1) for label in choices['label']]\n",
    "\n",
    "            # we want to convert 1, 2, 3, 4 to A, B, C, D if 1, 2, 3, 4 are present\n",
    "            if answer_key in ['1', '2', '3', '4']:\n",
    "                answer_key = chr(ord('A') + int(answer_key) - 1)\n",
    "            \n",
    "            # print(f\"Question: {question}\")\n",
    "            # print(f\"Choices: {choices}\")\n",
    "            # print(f\"Answer key: {answer_key}\")\n",
    "            \n",
    "            # formatted_options = [f\"{chr(ord('A') + i)}. {option}\" for i, option in enumerate(options)]\n",
    "            formatted_options = [f\"{label}. {option}\" for label, option in zip(choices['label'], choices['text'])]\n",
    "\n",
    "            # print(f\"Formatted options: {formatted_options}\")\n",
    "            \n",
    "            question_input = f\"###### Question ######\\n{question}\\n\" + \"\\n\".join(formatted_options)\n",
    "            prompt = PREFIX + f\"{question_input}\"\n",
    "\n",
    "            response = openai.ChatCompletion.create(\n",
    "                model=\"gpt-4\",\n",
    "                messages=[\n",
    "                    {\"role\": \"system\", \"content\": \"You are a chatbot trained to answer multiple-choice questions.\"},\n",
    "                    {\"role\": \"user\", \"content\": prompt},\n",
    "                ]\n",
    "            )\n",
    "\n",
    "            output = response['choices'][0]['message']['content'].strip()\n",
    "\n",
    "            explanation_match = re.search(r'Explanation: (.*)\\n', output)\n",
    "            explanation = explanation_match.group(1) if explanation_match else \"No explanation found.\"\n",
    "\n",
    "            answer_confidence_match = re.search(r'Answer and Confidence \\((0-100)\\): ([A-D]), (\\d+)%', output)\n",
    "            predicted_answer = answer_confidence_match.group(2).strip() if answer_confidence_match else \"No answer found.\"\n",
    "            confidence_level = int(answer_confidence_match.group(3)) if answer_confidence_match else \"No confidence level found.\"\n",
    "\n",
    "            with open(csv_file_path, 'a+', newline='', encoding='utf-8') as file:\n",
    "                writer = csv.writer(file)\n",
    "                if os.path.getsize(csv_file_path) == 0:\n",
    "                    writer.writerow(['id', 'question', 'choices', 'answerKey', 'predicted_answer', 'confidence_level', 'explanation'])\n",
    "                writer.writerow([idx, question, choices, answer_key, predicted_answer, confidence_level, explanation])\n",
    "               \n",
    "\n",
    "            set_checkpoint_idx(checkpoint_file, idx + 1)\n",
    "\n",
    "        except Exception as e:\n",
    "            print(f\"An error occurred at index {idx}: {e}\")\n",
    "            break"
   ]
  },
  {
   "cell_type": "code",
   "execution_count": 3,
   "metadata": {},
   "outputs": [],
   "source": [
    "train_csv_output_path = 'train.csv'\n",
    "validation_csv_output_path = 'validation.csv'\n",
    "train_checkpoint_file = 'train_checkpoint.txt'\n",
    "validation_checkpoint_file = 'validation_checkpoint.txt'"
   ]
  },
  {
   "cell_type": "code",
   "execution_count": 34,
   "metadata": {},
   "outputs": [
    {
     "name": "stdout",
     "output_type": "stream",
     "text": [
      "Starting from index 0\n"
     ]
    },
    {
     "name": "stderr",
     "output_type": "stream",
     "text": [
      "100%|██████████| 600/600 [1:17:37<00:00,  7.76s/it]\n"
     ]
    }
   ],
   "source": [
    "process_dataset(train_set, train_csv_output_path, train_checkpoint_file)"
   ]
  },
  {
   "cell_type": "code",
   "execution_count": 35,
   "metadata": {},
   "outputs": [
    {
     "name": "stdout",
     "output_type": "stream",
     "text": [
      "Starting from index 0\n"
     ]
    },
    {
     "name": "stderr",
     "output_type": "stream",
     "text": [
      "100%|██████████| 200/200 [25:48<00:00,  7.74s/it]\n"
     ]
    }
   ],
   "source": [
    "process_dataset(validation_set, validation_csv_output_path, validation_checkpoint_file)"
   ]
  },
  {
   "cell_type": "code",
   "execution_count": 4,
   "metadata": {},
   "outputs": [],
   "source": [
    "# put data to jsonl format\n",
    "import jsonlines\n",
    "import json\n",
    "\n",
    "# convert csv to jsonl\n",
    "def convert_to_jsonl(csv_file_path, jsonl_file_path):\n",
    "    with open(csv_file_path, 'r', encoding='utf-8') as csv_file:\n",
    "        csv_reader = csv.DictReader(csv_file)\n",
    "        with jsonlines.open(jsonl_file_path, mode='w') as writer:\n",
    "            for row in csv_reader:\n",
    "                writer.write(row)\n",
    "\n",
    "# save train and validation set to jsonl\n",
    "train_jsonl_output_path = 'train.jsonl'\n",
    "validation_jsonl_output_path = 'validation.jsonl'\n",
    "\n",
    "convert_to_jsonl(train_csv_output_path, train_jsonl_output_path)\n",
    "convert_to_jsonl(validation_csv_output_path, validation_jsonl_output_path)"
   ]
  },
  {
   "cell_type": "code",
   "execution_count": 19,
   "metadata": {},
   "outputs": [],
   "source": [
    "# save test set to jsonl\n",
    "# ensure it has same schema as train and validation set, with 'predicted_answer', 'answer', 'confidence_level', 'explanation' left to be None\n",
    "test_jsonl_output_path = 'test.jsonl'\n",
    "with jsonlines.open(test_jsonl_output_path, mode='w') as writer:\n",
    "    for idx in range(len(test_set)):\n",
    "        try:\n",
    "            # rows are in form of ['id', 'question', 'choices', 'answerKey']\n",
    "            # choices are in form of {'text': ['aluminum', 'copper', 'glass', 'wood'], 'label': ['A', 'B', 'C', 'D']} or { \"text\": [ \"their color\", \"their shape\", \"how they formed\", \"the minerals they contain\" ], \"label\": [ \"1\", \"2\", \"3\", \"4\" ] }\n",
    "            # we want to convert 1, 2, 3, 4 to A, B, C, D if 1, 2, 3, 4 are present\n",
    "            question = test_set[idx]['question']\n",
    "            choices = test_set[idx]['choices']\n",
    "            answer_key = test_set[idx]['answerKey']\n",
    "\n",
    "             # for choices, we want to convert 1, 2, 3, 4 to A, B, C, D if 1, 2, 3, 4 are present\n",
    "            if choices['label'][0] in ['1', '2', '3', '4']:\n",
    "                choices['label'] = [chr(ord('A') + int(label) - 1) for label in choices['label']]\n",
    "\n",
    "            # we want to convert 1, 2, 3, 4 to A, B, C, D if 1, 2, 3, 4 are present\n",
    "            if answer_key in ['1', '2', '3', '4']:\n",
    "                answer_key = chr(ord('A') + int(answer_key) - 1)\n",
    "            \n",
    "            # formatted_options = [f\"{chr(ord('A') + i)}. {option}\" for i, option in enumerate(options)]\n",
    "            formatted_options = [f\"{label}. {option}\" for label, option in zip(choices['label'], choices['text'])]\n",
    "\n",
    "            writer.write({\n",
    "                'id': str(idx),\n",
    "                'question': question,\n",
    "                'choices': \"\\n\".join(formatted_options),\n",
    "                'answerKey': answer_key,\n",
    "                'predicted_answer': None,\n",
    "                'confidence_level': None,\n",
    "                'explanation': None\n",
    "            })\n",
    "        except Exception as e:\n",
    "            print(f\"An error occurred at index {idx}: {e}\")\n",
    "            break"
   ]
  },
  {
   "cell_type": "code",
   "execution_count": 20,
   "metadata": {},
   "outputs": [
    {
     "name": "stdout",
     "output_type": "stream",
     "text": [
      "{\n",
      "  \"id\": \"str\",\n",
      "  \"question\": \"str\",\n",
      "  \"choices\": \"str\",\n",
      "  \"answerKey\": \"str\",\n",
      "  \"predicted_answer\": \"str\",\n",
      "  \"confidence_level\": \"str\",\n",
      "  \"explanation\": \"str\"\n",
      "}\n",
      "{\n",
      "  \"id\": \"str\",\n",
      "  \"question\": \"str\",\n",
      "  \"choices\": \"str\",\n",
      "  \"answerKey\": \"str\",\n",
      "  \"predicted_answer\": \"str\",\n",
      "  \"confidence_level\": \"str\",\n",
      "  \"explanation\": \"str\"\n",
      "}\n",
      "{\n",
      "  \"id\": \"str\",\n",
      "  \"question\": \"str\",\n",
      "  \"choices\": \"str\",\n",
      "  \"answerKey\": \"str\",\n",
      "  \"predicted_answer\": \"NoneType\",\n",
      "  \"confidence_level\": \"NoneType\",\n",
      "  \"explanation\": \"NoneType\"\n",
      "}\n"
     ]
    }
   ],
   "source": [
    "# print shema of train, validation, and test set for jsonl\n",
    "import json\n",
    "\n",
    "def print_jsonl_schema(jsonl_file_path):\n",
    "    with open(jsonl_file_path, 'r', encoding='utf-8') as file:\n",
    "        first_line = file.readline()\n",
    "        json_object = json.loads(first_line)\n",
    "\n",
    "        schema = {key: type(value).__name__ for key, value in json_object.items()}\n",
    "        print(json.dumps(schema, indent=2))\n",
    "\n",
    "print_jsonl_schema(train_jsonl_output_path)\n",
    "print_jsonl_schema(validation_jsonl_output_path)\n",
    "print_jsonl_schema(test_jsonl_output_path)"
   ]
  },
  {
   "cell_type": "code",
   "execution_count": 21,
   "metadata": {},
   "outputs": [
    {
     "data": {
      "application/vnd.jupyter.widget-view+json": {
       "model_id": "c2ee01429bff4a5cb7ca3103b0495a88",
       "version_major": 2,
       "version_minor": 0
      },
      "text/plain": [
       "Downloading readme:   0%|          | 0.00/60.0 [00:00<?, ?B/s]"
      ]
     },
     "metadata": {},
     "output_type": "display_data"
    },
    {
     "data": {
      "application/vnd.jupyter.widget-view+json": {
       "model_id": "1303f497268c4f75948b4673c091efbe",
       "version_major": 2,
       "version_minor": 0
      },
      "text/plain": [
       "Downloading data files:   0%|          | 0/3 [00:00<?, ?it/s]"
      ]
     },
     "metadata": {},
     "output_type": "display_data"
    },
    {
     "data": {
      "application/vnd.jupyter.widget-view+json": {
       "model_id": "5ba1baaf67c646edb45f18fc47f910bb",
       "version_major": 2,
       "version_minor": 0
      },
      "text/plain": [
       "Downloading data:   0%|          | 0.00/527k [00:00<?, ?B/s]"
      ]
     },
     "metadata": {},
     "output_type": "display_data"
    },
    {
     "data": {
      "application/vnd.jupyter.widget-view+json": {
       "model_id": "f5359e3ed73643129dfdfae1eda2f52b",
       "version_major": 2,
       "version_minor": 0
      },
      "text/plain": [
       "Downloading data:   0%|          | 0.00/184k [00:00<?, ?B/s]"
      ]
     },
     "metadata": {},
     "output_type": "display_data"
    },
    {
     "data": {
      "application/vnd.jupyter.widget-view+json": {
       "model_id": "c80a37b2e2cb434e81989fafa55457e9",
       "version_major": 2,
       "version_minor": 0
      },
      "text/plain": [
       "Downloading data:   0%|          | 0.00/74.0k [00:00<?, ?B/s]"
      ]
     },
     "metadata": {},
     "output_type": "display_data"
    },
    {
     "data": {
      "application/vnd.jupyter.widget-view+json": {
       "model_id": "a91e47e61e744db6bc05a44601aa3218",
       "version_major": 2,
       "version_minor": 0
      },
      "text/plain": [
       "Extracting data files:   0%|          | 0/3 [00:00<?, ?it/s]"
      ]
     },
     "metadata": {},
     "output_type": "display_data"
    },
    {
     "data": {
      "application/vnd.jupyter.widget-view+json": {
       "model_id": "f5c8d08fceb24d11ab5d1a3360d00ac5",
       "version_major": 2,
       "version_minor": 0
      },
      "text/plain": [
       "Generating train split: 0 examples [00:00, ? examples/s]"
      ]
     },
     "metadata": {},
     "output_type": "display_data"
    },
    {
     "data": {
      "application/vnd.jupyter.widget-view+json": {
       "model_id": "ed4ddf5ac94c44b6a528229baf2e53e6",
       "version_major": 2,
       "version_minor": 0
      },
      "text/plain": [
       "Generating validation split: 0 examples [00:00, ? examples/s]"
      ]
     },
     "metadata": {},
     "output_type": "display_data"
    },
    {
     "data": {
      "application/vnd.jupyter.widget-view+json": {
       "model_id": "cb417a0f7dce4198bfd1aa8d62757b18",
       "version_major": 2,
       "version_minor": 0
      },
      "text/plain": [
       "Generating test split: 0 examples [00:00, ? examples/s]"
      ]
     },
     "metadata": {},
     "output_type": "display_data"
    },
    {
     "data": {
      "application/vnd.jupyter.widget-view+json": {
       "model_id": "f5dfa59d26a34fb8a8a06c9e3cf97b0a",
       "version_major": 2,
       "version_minor": 0
      },
      "text/plain": [
       "Downloading data files:   0%|          | 0/3 [00:00<?, ?it/s]"
      ]
     },
     "metadata": {},
     "output_type": "display_data"
    },
    {
     "data": {
      "application/vnd.jupyter.widget-view+json": {
       "model_id": "52909346496d4f4f8011e42d309a4ec9",
       "version_major": 2,
       "version_minor": 0
      },
      "text/plain": [
       "Extracting data files:   0%|          | 0/3 [00:00<?, ?it/s]"
      ]
     },
     "metadata": {},
     "output_type": "display_data"
    },
    {
     "data": {
      "application/vnd.jupyter.widget-view+json": {
       "model_id": "13fb44d0ab034f49b0751d25e7eee61d",
       "version_major": 2,
       "version_minor": 0
      },
      "text/plain": [
       "Generating train split: 0 examples [00:00, ? examples/s]"
      ]
     },
     "metadata": {},
     "output_type": "display_data"
    },
    {
     "data": {
      "application/vnd.jupyter.widget-view+json": {
       "model_id": "0d53fdecbfe344d4a7c709cd8df5af4c",
       "version_major": 2,
       "version_minor": 0
      },
      "text/plain": [
       "Generating validation split: 0 examples [00:00, ? examples/s]"
      ]
     },
     "metadata": {},
     "output_type": "display_data"
    },
    {
     "data": {
      "application/vnd.jupyter.widget-view+json": {
       "model_id": "14c8e002728948cc8d10580148b8ed9b",
       "version_major": 2,
       "version_minor": 0
      },
      "text/plain": [
       "Generating test split: 0 examples [00:00, ? examples/s]"
      ]
     },
     "metadata": {},
     "output_type": "display_data"
    },
    {
     "data": {
      "application/vnd.jupyter.widget-view+json": {
       "model_id": "3ea4d3ca85cf49ef9c0cb2a92e986072",
       "version_major": 2,
       "version_minor": 0
      },
      "text/plain": [
       "Downloading data files:   0%|          | 0/3 [00:00<?, ?it/s]"
      ]
     },
     "metadata": {},
     "output_type": "display_data"
    },
    {
     "data": {
      "application/vnd.jupyter.widget-view+json": {
       "model_id": "d7773ddd9bae4c9987bb6d0e6c9ed3d4",
       "version_major": 2,
       "version_minor": 0
      },
      "text/plain": [
       "Extracting data files:   0%|          | 0/3 [00:00<?, ?it/s]"
      ]
     },
     "metadata": {},
     "output_type": "display_data"
    },
    {
     "data": {
      "application/vnd.jupyter.widget-view+json": {
       "model_id": "3d5a6c7b20e1438596954a92fa17a297",
       "version_major": 2,
       "version_minor": 0
      },
      "text/plain": [
       "Generating train split: 0 examples [00:00, ? examples/s]"
      ]
     },
     "metadata": {},
     "output_type": "display_data"
    },
    {
     "data": {
      "application/vnd.jupyter.widget-view+json": {
       "model_id": "facee5fef0f34a6f8c8d1af4e492bdc3",
       "version_major": 2,
       "version_minor": 0
      },
      "text/plain": [
       "Generating validation split: 0 examples [00:00, ? examples/s]"
      ]
     },
     "metadata": {},
     "output_type": "display_data"
    },
    {
     "data": {
      "application/vnd.jupyter.widget-view+json": {
       "model_id": "026d5970bc5a41d18251799abc7bd5fc",
       "version_major": 2,
       "version_minor": 0
      },
      "text/plain": [
       "Generating test split: 0 examples [00:00, ? examples/s]"
      ]
     },
     "metadata": {},
     "output_type": "display_data"
    }
   ],
   "source": [
    "# try to load the uploaded dataset from huggingface BENBENBENb/ARC1000COT\n",
    "from datasets import load_dataset\n",
    "train_huggingface_dataset = load_dataset('BENBENBENb/ARC1000COT', 'train')\n",
    "validation_huggingface_dataset = load_dataset('BENBENBENb/ARC1000COT', 'validation')\n",
    "test_huggingface_dataset = load_dataset('BENBENBENb/ARC1000COT', 'test')"
   ]
  },
  {
   "cell_type": "code",
   "execution_count": null,
   "metadata": {},
   "outputs": [],
   "source": []
  }
 ],
 "metadata": {
  "kernelspec": {
   "display_name": "base",
   "language": "python",
   "name": "python3"
  },
  "language_info": {
   "codemirror_mode": {
    "name": "ipython",
    "version": 3
   },
   "file_extension": ".py",
   "mimetype": "text/x-python",
   "name": "python",
   "nbconvert_exporter": "python",
   "pygments_lexer": "ipython3",
   "version": "3.9.15"
  },
  "orig_nbformat": 4
 },
 "nbformat": 4,
 "nbformat_minor": 2
}
